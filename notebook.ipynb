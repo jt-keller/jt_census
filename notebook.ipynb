{
 "cells": [
  {
   "cell_type": "code",
   "execution_count": 4,
   "id": "f6ab5af7",
   "metadata": {},
   "outputs": [],
   "source": [
    "import jt_census as census\n",
    "import jt_lehd as lehd"
   ]
  },
  {
   "cell_type": "code",
   "execution_count": 7,
   "id": "0c4d5949",
   "metadata": {},
   "outputs": [],
   "source": [
    "dec_vars = census.vars_dec(2020)\n",
    "acs_vars = census.vars_acs(2023)"
   ]
  },
  {
   "cell_type": "code",
   "execution_count": null,
   "id": "ba22e5b4",
   "metadata": {},
   "outputs": [
    {
     "data": {
      "text/plain": [
       "('MA',\n",
       " 'Massachusetts',\n",
       " '25',\n",
       " {'Barnstable County': '001',\n",
       "  'Berkshire County[k]': '003',\n",
       "  'Bristol County': '005',\n",
       "  'Dukes County': '007',\n",
       "  'Essex County[k]': '009',\n",
       "  'Franklin County[k]': '011',\n",
       "  'Hampden County[k]': '013',\n",
       "  'Hampshire County[k]': '015',\n",
       "  'Middlesex County[k]': '017',\n",
       "  'Nantucket, Town and County of[q]': '019',\n",
       "  'Norfolk County': '021',\n",
       "  'Plymouth County': '023',\n",
       "  'Suffolk County[k]': '025',\n",
       "  'Worcester County[k]': '027'})"
      ]
     },
     "execution_count": 5,
     "metadata": {},
     "output_type": "execute_result"
    }
   ],
   "source": []
  }
 ],
 "metadata": {
  "kernelspec": {
   "display_name": ".venv",
   "language": "python",
   "name": "python3"
  },
  "language_info": {
   "codemirror_mode": {
    "name": "ipython",
    "version": 3
   },
   "file_extension": ".py",
   "mimetype": "text/x-python",
   "name": "python",
   "nbconvert_exporter": "python",
   "pygments_lexer": "ipython3",
   "version": "3.13.2"
  }
 },
 "nbformat": 4,
 "nbformat_minor": 5
}
